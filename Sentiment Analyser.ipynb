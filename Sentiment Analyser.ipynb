{
 "cells": [
  {
   "cell_type": "code",
   "execution_count": 1,
   "metadata": {},
   "outputs": [],
   "source": [
    "import tweepy\n",
    "from textblob import TextBlob"
   ]
  },
  {
   "cell_type": "code",
   "execution_count": 2,
   "metadata": {},
   "outputs": [],
   "source": [
    "consumer_key = 'sjUItYap4WnMEICAHjyEKSNHC'\n",
    "consumer_secret = 'ZTkpRKQA2M735ma3rE4XDNZh4bPEhNYvwpSOwxvdK4A4XNLR3k'\n",
    "\n",
    "access_token = '598847234-NSpUdR67EKtfNb9oB0pcoJjjEnf4x8bvVBzUjIj7'\n",
    "access_token_secret = 'DhkDStGFXizz5ZzYB2ray0EUIehJUcTQ0jIfR0nN2Qv9h'\n",
    "\n",
    "auth = tweepy.OAuthHandler(consumer_key, consumer_secret)\n",
    "auth.set_access_token(access_token, access_token_secret)"
   ]
  },
  {
   "cell_type": "code",
   "execution_count": 3,
   "metadata": {},
   "outputs": [],
   "source": [
    "api = tweepy.API(auth)"
   ]
  },
  {
   "cell_type": "code",
   "execution_count": 4,
   "metadata": {},
   "outputs": [
    {
     "name": "stdout",
     "output_type": "stream",
     "text": [
      "#amazonIN #Happy2Years @relianceJio. Great to be a part of our journey together to delight customers #EverydayOnJio… https://t.co/RoNiBoHHJw\n",
      "Sentiment(polarity=0.8, subjectivity=0.75)\n",
      "RT @BazaarRewards: #amazonIN #Happy2Years @relianceJio. Great to be a part of our journey together to delight customers #EverydayOnJio! Her…\n",
      "Sentiment(polarity=1.0, subjectivity=0.75)\n",
      "Bazaar Rewards: Up to 40% off mobiles | #Amazon #AmazonExclusive  #AmazonIN https://t.co/RCIEpAXRHT … … https://t.co/uuXUL51HEg\n",
      "Sentiment(polarity=0.0, subjectivity=0.0)\n",
      "\"Get the charging solution of all your device.\n",
      "Choose #LCARE Display power bank and get \n",
      "low weight, slim design, 2… https://t.co/Nh3WgzRVeD\n",
      "Sentiment(polarity=0.0, subjectivity=0.3)\n",
      "Buy Rewy HBS-730 Neckband Bluetooth Wireless Sport Stereo Headset at Rs. 399(MRP 2,999) on #amazonIN… https://t.co/XxpNtV96rg\n",
      "Sentiment(polarity=0.0, subjectivity=0.0)\n",
      "Buy Rewy HBS-730 Neckband Bluetooth Wireless Sport Stereo Headset at Rs. 399(MRP 2,999) on #amazonIN… https://t.co/Z9BXyH4ICR\n",
      "Sentiment(polarity=0.0, subjectivity=0.0)\n",
      "Buy Echo Dot at Rs. 4,099(MRP 4,499) on #amazonIN https://t.co/0wefl27Ia4 https://t.co/4NP5gzqPUg\n",
      "Sentiment(polarity=0.0, subjectivity=0.0)\n",
      "Buy Echo Dot at Rs. 4,099(MRP 4,499) on #amazonIN https://t.co/twf69kncPf https://t.co/ZhNEXFf2E0\n",
      "Sentiment(polarity=0.0, subjectivity=0.0)\n",
      "🚩 Women’s Clothing | Amazon Fashion ⚡ Shop For Rs 1500 &amp; Get Rs 300 Cashback on #amazonIN https://t.co/0kLHKWTAMK\n",
      "🌟… https://t.co/9BhkEwRgEK\n",
      "Sentiment(polarity=0.0, subjectivity=0.0)\n",
      "🚩 Women’s Clothing | Amazon Fashion ⚡ Shop For Rs 1500 &amp; Get Rs 300 Cashback on #amazonIN https://t.co/5UW1mqM3q9\n",
      "🌟… https://t.co/1yBBwZeJWN\n",
      "Sentiment(polarity=0.0, subjectivity=0.0)\n",
      "Completed 😍 #Quiztimemorningswithamazon #amazonIN https://t.co/YiTslciT4D\n",
      "Sentiment(polarity=0.0, subjectivity=0.0)\n",
      "🚩 Amazon Fashion ⚡ Shop For Rs 1500 &amp; Get Rs 300 Cashback on #amazonIN https://t.co/ab6nlD7COO\n",
      "\n",
      "OFFER DETAILS\n",
      "\n",
      "🌟 Da… https://t.co/T8KC4A1pzU\n",
      "Sentiment(polarity=0.0, subjectivity=0.0)\n",
      "🚩 Amazon Fashion ⚡ Shop For Rs 1500 &amp; Get Rs 300 Cashback on #amazonIN https://t.co/Ztt3V9T9J9\n",
      "\n",
      "OFFER DETAILS\n",
      "\n",
      "🌟 Da… https://t.co/rjdYKXs2ks\n",
      "Sentiment(polarity=0.0, subjectivity=0.0)\n",
      "Kingston DataTraveler 16GB USB 3.0 Flash Drive  @ Rs. 434 #AmazonIN #AmazonIndia #offers #deals #discount… https://t.co/C3CiULLTyS\n",
      "Sentiment(polarity=0.1, subjectivity=0.0)\n",
      "RT @adhiya_keyur: @ladyofquirks @AmazonHelp @amazon Really great that you nagged them otherwise Amazon did not do anything. Happy your prob…\n",
      "Sentiment(polarity=0.8, subjectivity=0.875)\n"
     ]
    }
   ],
   "source": [
    "tweets = api.search('#amazonIN', lang='en')\n",
    "for tweet in tweets:\n",
    "    print(tweet.text)\n",
    "    print(TextBlob(tweet.text).sentiment)"
   ]
  },
  {
   "cell_type": "code",
   "execution_count": null,
   "metadata": {},
   "outputs": [],
   "source": []
  }
 ],
 "metadata": {
  "kernelspec": {
   "display_name": "Python 3",
   "language": "python",
   "name": "python3"
  },
  "language_info": {
   "codemirror_mode": {
    "name": "ipython",
    "version": 3
   },
   "file_extension": ".py",
   "mimetype": "text/x-python",
   "name": "python",
   "nbconvert_exporter": "python",
   "pygments_lexer": "ipython3",
   "version": "3.6.5"
  }
 },
 "nbformat": 4,
 "nbformat_minor": 2
}
